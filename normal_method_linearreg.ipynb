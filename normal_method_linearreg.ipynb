{
  "nbformat": 4,
  "nbformat_minor": 0,
  "metadata": {
    "colab": {
      "provenance": []
    },
    "kernelspec": {
      "name": "python3",
      "display_name": "Python 3"
    },
    "language_info": {
      "name": "python"
    }
  },
  "cells": [
    {
      "cell_type": "code",
      "execution_count": 2,
      "metadata": {
        "colab": {
          "base_uri": "https://localhost:8080/"
        },
        "id": "cnA9F3DkfJQc",
        "outputId": "531f8f29-aed5-4966-a7a6-805665317ecc"
      },
      "outputs": [
        {
          "output_type": "stream",
          "name": "stdout",
          "text": [
            "Parameters (Theta): [1.80616438e+05 1.35787671e+02]\n",
            "Predicted Price for a 1650 sq.ft. house: 404666.09589041217\n"
          ]
        }
      ],
      "source": [
        "import numpy as np\n",
        "import pandas as pd\n",
        "\n",
        "# Load the dataset\n",
        "data = pd.read_excel('homeprices_uni.xlsx')\n",
        "\n",
        "# Extract features and target variable\n",
        "X = data.iloc[:, :-1].values  # Features (independent variables)\n",
        "y = data.iloc[:, -1].values   # Target variable (dependent variable)\n",
        "\n",
        "# Add bias term to the feature matrix\n",
        "X_with_bias = np.c_[np.ones((X.shape[0], 1)), X]\n",
        "\n",
        "# Compute the parameters using Normal Equations\n",
        "theta = np.linalg.inv(X_with_bias.T.dot(X_with_bias)).dot(X_with_bias.T).dot(y)\n",
        "\n",
        "# Print the parameters\n",
        "print(\"Parameters (Theta):\", theta)\n",
        "\n",
        "# Make predictions\n",
        "def predict(X, theta):\n",
        "    X_with_bias = np.c_[np.ones((X.shape[0], 1)), X]\n",
        "    return X_with_bias.dot(theta)\n",
        "\n",
        "# Example prediction\n",
        "new_house_features = np.array([[1650]])  # Example feature for a new house\n",
        "predicted_price = predict(new_house_features, theta)\n",
        "print(\"Predicted Price for a 1650 sq.ft. house:\", predicted_price[0])\n"
      ]
    },
    {
      "cell_type": "code",
      "source": [],
      "metadata": {
        "id": "xvUB-fO8fha0"
      },
      "execution_count": null,
      "outputs": []
    }
  ]
}