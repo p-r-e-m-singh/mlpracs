{
  "nbformat": 4,
  "nbformat_minor": 0,
  "metadata": {
    "colab": {
      "provenance": []
    },
    "kernelspec": {
      "name": "python3",
      "display_name": "Python 3"
    },
    "language_info": {
      "name": "python"
    }
  },
  "cells": [
    {
      "cell_type": "markdown",
      "source": [
        "\n",
        "Implement  Linear regression to predict house prices based on multiple variables using regularization techniques and explain how regularisation overcome overfitting problem. (use inbuilt dataset boston-  from sklearn.datasets import load_boston)\n",
        "\n",
        "\n"
      ],
      "metadata": {
        "id": "X07nQMQzOz7p"
      }
    },
    {
      "cell_type": "code",
      "execution_count": null,
      "metadata": {
        "id": "oL1kiexEOjMm"
      },
      "outputs": [],
      "source": [
        "import numpy as np\n",
        "import pandas as pd\n",
        "from sklearn.datasets import load_boston\n",
        "from sklearn.model_selection import train_test_split\n",
        "from sklearn.linear_model import LinearRegression, Ridge, Lasso\n",
        "from sklearn.metrics import mean_squared_error"
      ]
    },
    {
      "cell_type": "code",
      "source": [
        "# Step 1: Load the Boston housing dataset\n",
        "boston = load_boston()\n",
        "X = boston.data\n",
        "y = boston.target\n",
        "\n",
        "# Step 2: Split the dataset into training and testing sets\n",
        "X_train, X_test, y_train, y_test = train_test_split(X, y, test_size=0.2, random_state=42)\n",
        "\n",
        "# Step 3: Linear Regression without regularization\n",
        "lr = LinearRegression()\n",
        "lr.fit(X_train, y_train)\n",
        "lr_predictions = lr.predict(X_test)\n",
        "lr_mse = mean_squared_error(y_test, lr_predictions)\n",
        "print(\"Linear Regression MSE (without regularization):\", lr_mse)\n",
        "\n",
        "# Step 4: Ridge Regression (L2 regularization)\n",
        "ridge = Ridge(alpha=1.0)  # Adjust alpha for regularization strength\n",
        "ridge.fit(X_train, y_train)\n",
        "ridge_predictions = ridge.predict(X_test)\n",
        "ridge_mse = mean_squared_error(y_test, ridge_predictions)\n",
        "print(\"Ridge Regression MSE:\", ridge_mse)\n",
        "\n",
        "# Step 5: Lasso Regression (L1 regularization)\n",
        "lasso = Lasso(alpha=1.0)  # Adjust alpha for regularization strength\n",
        "lasso.fit(X_train, y_train)\n",
        "lasso_predictions = lasso.predict(X_test)\n",
        "lasso_mse = mean_squared_error(y_test, lasso_predictions)\n",
        "print(\"Lasso Regression MSE:\", lasso_mse)\n"
      ],
      "metadata": {
        "id": "yrNqgitASIqr"
      },
      "execution_count": null,
      "outputs": []
    }
  ]
}